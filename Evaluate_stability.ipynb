{
 "cells": [
  {
   "cell_type": "markdown",
   "metadata": {},
   "source": [
    "# Imports"
   ]
  },
  {
   "cell_type": "code",
   "execution_count": 1,
   "metadata": {},
   "outputs": [],
   "source": [
    "import numpy as np\n",
    "import pandas as pd\n",
    "import json\n",
    "import matplotlib.pyplot as plt\n",
    "import os"
   ]
  },
  {
   "cell_type": "markdown",
   "metadata": {},
   "source": [
    "# Load Data"
   ]
  },
  {
   "cell_type": "code",
   "execution_count": 2,
   "metadata": {},
   "outputs": [],
   "source": [
    "directory = \"/Users/zhenningdavidliu/Desktop/PhD/paper_measure_code/results\"\n",
    "\n",
    "if not os.path.exists(\"results/stabilities.csv\"):\n",
    "    stabilities = pd.DataFrame(columns=['Model', 'FGSM', 'DeepFool', 'PGD', 'L2PGD'])\n",
    "\n",
    "else:\n",
    "    stabilities = pd.read_csv(\"results/stabilities.csv\")\n",
    "\n",
    "for file in os.listdir(directory):\n",
    "    if file.startswith(\"min_l2_distances\") and file.endswith(\".csv\"):\n",
    "        min_l2_distances = pd.read_csv(os.path.join(directory, file))\n",
    "        model_name = file.split(\"_\")[3:]\n",
    "        model_name = \"_\".join(model_name)\n",
    "        model_name = model_name.replace(\".csv\", \"\")\n",
    "        min_l2_distances.rename(columns={'Unnamed: 0': \"Image_number\"}, inplace=True)\n",
    "        min_l2_distances['Model'] = model_name\n",
    "\n",
    "        # Calculate stability\n",
    "        mean_stability = min_l2_distances[['FGSM', 'DeepFool', 'PGD', 'L2PGD']].mean(axis=0)\n",
    "        mean_stability['Model'] = model_name \n",
    "        \n",
    "        # Append to stabilities\n",
    "        stabilities = pd.concat([stabilities, mean_stability.to_frame().T])\n",
    "\n",
    "    # Save to csv\n",
    "stabilities.to_csv(\"results/stabilities.csv\", index=False)\n"
   ]
  },
  {
   "cell_type": "markdown",
   "metadata": {},
   "source": []
  },
  {
   "cell_type": "code",
   "execution_count": null,
   "metadata": {},
   "outputs": [],
   "source": [
    "stabilities"
   ]
  }
 ],
 "metadata": {
  "kernelspec": {
   "display_name": "paper-measure",
   "language": "python",
   "name": "python3"
  },
  "language_info": {
   "codemirror_mode": {
    "name": "ipython",
    "version": 3
   },
   "file_extension": ".py",
   "mimetype": "text/x-python",
   "name": "python",
   "nbconvert_exporter": "python",
   "pygments_lexer": "ipython3",
   "version": "3.10.16"
  }
 },
 "nbformat": 4,
 "nbformat_minor": 2
}
